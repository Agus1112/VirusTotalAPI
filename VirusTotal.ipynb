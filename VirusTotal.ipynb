{
  "cells": [
    {
      "cell_type": "markdown",
      "metadata": {
        "id": "view-in-github",
        "colab_type": "text"
      },
      "source": [
        "<a href=\"https://colab.research.google.com/github/Agus1112/VirusTotalAPI/blob/main/VirusTotal.ipynb\" target=\"_parent\"><img src=\"https://colab.research.google.com/assets/colab-badge.svg\" alt=\"Open In Colab\"/></a>"
      ]
    },
    {
      "cell_type": "markdown",
      "metadata": {
        "id": "PUdrPW2bJNvK"
      },
      "source": [
        "#VIRUS TOTAL\n",
        "\n",
        "###Descripción:\n",
        "Script para consultar y extraer información del servicio Virus Total.\n",
        "\n",
        "Puede obtener información de:\n",
        "\n",
        "\n",
        "\n",
        "*   Archivos (hashes SHA-256, SHA-1, MD5)\n",
        "*   Dominios\n",
        "*   IP's (Versión 4)\n",
        "*   URL's\n",
        "\n",
        "Otras acciones que se pueden realizar:\n",
        "\n",
        "* Escaneo de URL's\n",
        "* Escaneo de archivos"
      ]
    },
    {
      "cell_type": "markdown",
      "source": [
        "##API-KEY"
      ],
      "metadata": {
        "id": "iAwpx2DVa0Zv"
      }
    },
    {
      "cell_type": "code",
      "source": [
        "#API_KEY\n",
        "API_KEY = '' #Ingresar APIKEY"
      ],
      "metadata": {
        "id": "4T3hmGVVa4Ea"
      },
      "execution_count": null,
      "outputs": []
    },
    {
      "cell_type": "markdown",
      "source": [
        "## Errores en la respuesta\n",
        "\n",
        "| Código HTTP | Código de error              | Descripción                                                                                                                                     |\n",
        "|-------------|------------------------------|-------------------------------------------------------------------------------------------------------------------------------------------------|\n",
        "| 400         | BadRequestError              | La solicitud de API no es válida o tiene un formato incorrecto. El mensaje suele proporcionar detalles sobre por qué la solicitud no es válida. |\n",
        "| 400         | InvalidArgumentError         | Algunos de los argumentos proporcionados son incorrectos.                                                                                       |\n",
        "| 400         | NotAvailableYet              | El recurso aún no está disponible, pero estará disponible más adelante.                                                                         |\n",
        "| 400         | UnselectiveContentQueryError | La consulta de búsqueda de contenido no es lo suficientemente selectiva.                                                                        |\n",
        "| 400         | UnsupportedContentQueryError | Consulta de búsqueda de contenido no admitida.                                                                                                  |\n",
        "| 401         | AuthenticationRequiredError  | La operación requiere un usuario autenticado. Compruebe que ha proporcionado su clave de API.                                                   |\n",
        "| 401         | UserNotActiveError           | La cuenta de usuario no está activa. Asegúrese de haber activado correctamente su cuenta siguiendo el enlace enviado a su correo electrónico.   |\n",
        "| 401         | WrongCredentialsError        | La clave de API proporcionada es incorrecta.                                                                                                    |\n",
        "| 403         | ForbiddenError               | No se le permite realizar la operación solicitada.                                                                                              |\n",
        "| 404         | NotFoundError                | No se encontró el recurso solicitado.                                                                                                           |\n",
        "| 409         | AlreadyExistsError           | El recurso ya existe.                                                                                                                           |\n",
        "| 424         | FailedDependencyError        | La solicitud dependía de otra solicitud y se produjo un error en esa solicitud.                                                                 |\n",
        "| 429         | QuotaExceededError           | Has superado una de tus cuotas (minuto, diaria o mensual). Las cuotas diarias se restablecen todos los días a las 00:00 UTC.                    |\n",
        "|             |                              | Es posible que se haya quedado sin espacio en disco y/o sin número de archivos en su cuenta de VirusTotal Monitor.                              |\n",
        "| 429         | TooManyRequestsError         | Demasiadas solicitudes.                                                                                                                         |\n",
        "| 503         | TransientError               | Error transitorio del servidor. Es posible que el reintento funcione.                                                                           |\n",
        "| 504         | DeadlineExceededError        | La operación tardó demasiado en completarse.                                                                                                    |\n"
      ],
      "metadata": {
        "id": "oFTLoWgPg2EP"
      }
    },
    {
      "cell_type": "code",
      "source": [
        "# Estructura de una respuesta errónea.\n",
        "{\n",
        "  \"error\": {\n",
        "    \"code\": \"<error code>\",\n",
        "    \"message\": \"<a message describing the error>\"\n",
        "  }\n",
        "}"
      ],
      "metadata": {
        "colab": {
          "base_uri": "https://localhost:8080/"
        },
        "id": "fRupls12g5E8",
        "outputId": "826d053a-fb02-4785-9672-c7d7708e2824"
      },
      "execution_count": null,
      "outputs": [
        {
          "output_type": "execute_result",
          "data": {
            "text/plain": [
              "{'error': {'code': '<error code>',\n",
              "  'message': '<a message describing the error>'}}"
            ]
          },
          "metadata": {},
          "execution_count": 2
        }
      ]
    },
    {
      "cell_type": "markdown",
      "source": [
        "# Direcciones IP"
      ],
      "metadata": {
        "id": "wOcoYxVDT7SZ"
      }
    },
    {
      "cell_type": "markdown",
      "source": [
        "## Obtener un informe de direcciones IP\n",
        "\n",
        "\n"
      ],
      "metadata": {
        "id": "nzKK4zKXSc4-"
      }
    },
    {
      "cell_type": "markdown",
      "source": [
        "### Valores\n",
        "\n",
        "<ul>\n",
        "<li><button aria-label=\"Copy Code\" class=\"rdmd-code-copy fa\" _msthidden=\"A\" _mstaria-label=\"108654\" _msthash=\"26752\"></button><code class=\"rdmd-code lang- theme-light\" data-lang=\"\" name=\"\" tabindex=\"0\"><span class=\"cm-s-neo\">as_owner</span></code><font _mstmutation=\"1\" _msttexthash=\"2706548\" _msthash=\"26753\">: &lt;<em _mstmutation=\"1\" _istranslated=\"1\">string</em>&gt; propietario del Sistema Autónomo al que pertenece la IP.</font></li>\n",
        "<li><button aria-label=\"Copy Code\" class=\"rdmd-code-copy fa\" _msthidden=\"A\" _mstaria-label=\"108654\" _msthash=\"26754\"></button><code class=\"rdmd-code lang- theme-light\" data-lang=\"\" name=\"\" tabindex=\"0\"><span class=\"cm-s-neo\">asn</span></code><font _mstmutation=\"1\" _msttexthash=\"2256124\" _msthash=\"26755\">: &lt;<em _mstmutation=\"1\" _istranslated=\"1\">entero</em>&gt; número de sistema autónomo al que pertenece la IP.</font></li>\n",
        "<li><button aria-label=\"Copy Code\" class=\"rdmd-code-copy fa\" _msthidden=\"A\" _mstaria-label=\"108654\" _msthash=\"26756\"></button><code class=\"rdmd-code lang- theme-light\" data-lang=\"\" name=\"\" tabindex=\"0\"><span class=\"cm-s-neo\">continent</span></code><font _mstmutation=\"1\" _msttexthash=\"3061591\" _msthash=\"26757\">: &lt;<em _mstmutation=\"1\" _istranslated=\"1\">string</em>&gt; continente donde se coloca la IP (código de continente ISO-3166).</font></li>\n",
        "<li><button aria-label=\"Copy Code\" class=\"rdmd-code-copy fa\" _msthidden=\"A\" _mstaria-label=\"108654\" _msthash=\"26758\"></button><code class=\"rdmd-code lang- theme-light\" data-lang=\"\" name=\"\" tabindex=\"0\"><span class=\"cm-s-neo\">country</span></code><font _mstmutation=\"1\" _msttexthash=\"2147171\" _msthash=\"26759\">: &lt;<em _mstmutation=\"1\" _istranslated=\"1\">cadena</em>&gt; país donde se coloca la IP (código de país ISO-3166).</font></li>\n",
        "<li><button aria-label=\"Copy Code\" class=\"rdmd-code-copy fa\" _msthidden=\"A\" _mstaria-label=\"108654\" _msthash=\"26760\"></button><code class=\"rdmd-code lang- theme-light\" data-lang=\"\" name=\"\" tabindex=\"0\"><span class=\"cm-s-neo\">jarm</span></code><font _mstmutation=\"1\" _msttexthash=\"987077\" _msthash=\"26761\">: &lt;<em _mstmutation=\"1\" _istranslated=\"1\">string</em>&gt; <a target=\"_self\" href=\"https://engineering.salesforce.com/easily-identify-malicious-servers-on-the-internet-with-jarm-e095edac525a\" _mstmutation=\"1\" _istranslated=\"1\">hash JARM</a> de la dirección IP.</font></li>\n",
        "<li><button aria-label=\"Copy Code\" class=\"rdmd-code-copy fa\" _msthidden=\"A\" _mstaria-label=\"108654\" _msthash=\"26762\"></button><code class=\"rdmd-code lang- theme-light\" data-lang=\"\" name=\"\" tabindex=\"0\"><span class=\"cm-s-neo\">last_analysis_date</span></code><font _mstmutation=\"1\" _msttexthash=\"3681795\" _msthash=\"26763\">: &lt;<em _mstmutation=\"1\" _istranslated=\"1\">entero</em>&gt; marca de tiempo UTC que representa la última vez que se analizó la IP.</font></li>\n",
        "<li><button aria-label=\"Copy Code\" class=\"rdmd-code-copy fa\" _msthidden=\"A\" _mstaria-label=\"108654\" _msthash=\"26764\"></button><code class=\"rdmd-code lang- theme-light\" data-lang=\"\" name=\"\" tabindex=\"0\"><span class=\"cm-s-neo\">last_analysis_results</span></code><font _mstmutation=\"1\" _msttexthash=\"12430795\" _msthash=\"26765\">: &lt;<em _mstmutation=\"1\" _istranslated=\"1\">diccionario</em>&gt; resultado de los escáneres de URL. dict con el nombre del escáner como clave y un dictado con notas/resultado de ese escáner como valor. </font><ul>\n",
        "<li><button aria-label=\"Copy Code\" class=\"rdmd-code-copy fa\" _msthidden=\"A\" _mstaria-label=\"108654\" _msthash=\"26766\"></button><code class=\"rdmd-code lang- theme-light\" data-lang=\"\" name=\"\" tabindex=\"0\"><span class=\"cm-s-neo\">category</span></code><font _mstmutation=\"1\" _msttexthash=\"1345682\" _msthash=\"26767\">: &lt;<em _mstmutation=\"1\" _istranslated=\"1\">string</em>&gt; resultado normalizado. puede ser: </font><ul>\n",
        "<li _msttexthash=\"1070823\" _msthash=\"26768\">\"inofensivo\" (el sitio no es malicioso),</li>\n",
        "<li _msttexthash=\"2223702\" _msthash=\"26769\">\"no detectado\" (scanner no tiene opinión sobre este sitio),</li>\n",
        "<li _msttexthash=\"2119533\" _msthash=\"26770\">\"sospechoso\" (el escáner cree que el sitio es sospechoso),</li>\n",
        "<li _msttexthash=\"1950910\" _msthash=\"26771\">\"malicioso\" (el escáner cree que el sitio es malicioso).</li>\n",
        "</ul>\n",
        "</li>\n",
        "<li><button aria-label=\"Copy Code\" class=\"rdmd-code-copy fa\" _msthidden=\"A\" _mstaria-label=\"108654\" _msthash=\"26772\"></button><code class=\"rdmd-code lang- theme-light\" data-lang=\"\" name=\"\" tabindex=\"0\"><span class=\"cm-s-neo\">engine_name</span></code><font _mstmutation=\"1\" _msttexthash=\"1980212\" _msthash=\"26773\">: &lt;<em _mstmutation=\"1\" _istranslated=\"1\">string</em>&gt; nombre completo del servicio de escaneo de URL.</font></li>\n",
        "<li><button aria-label=\"Copy Code\" class=\"rdmd-code-copy fa\" _msthidden=\"A\" _mstaria-label=\"108654\" _msthash=\"26774\"></button><code class=\"rdmd-code lang- theme-light\" data-lang=\"\" name=\"\" tabindex=\"0\"><span class=\"cm-s-neo\">method</span></code><font _mstmutation=\"1\" _msttexthash=\"5487846\" _msthash=\"26775\">: &lt;<em _mstmutation=\"1\" _istranslated=\"1\">cadena</em>&gt; tipo de servicio proporcionado por ese servicio de escaneo de URL (es decir, \"lista negra\").</font></li>\n",
        "<li><button aria-label=\"Copy Code\" class=\"rdmd-code-copy fa\" _msthidden=\"A\" _mstaria-label=\"108654\" _msthash=\"26776\"></button><code class=\"rdmd-code lang- theme-light\" data-lang=\"\" name=\"\" tabindex=\"0\"><span class=\"cm-s-neo\">result</span></code><font _mstmutation=\"1\" _msttexthash=\"21934276\" _msthash=\"26777\">: &lt;<em _mstmutation=\"1\" _istranslated=\"1\">string</em>&gt; valor bruto devuelto por el escáner de URL (\"limpio\", \"malicioso\", \"sospechoso\", \"phishing\"). Puede variar de un escáner a otro, de ahí la necesidad del campo \"categoría\" para la normalización.</font></li>\n",
        "</ul>\n",
        "</li>\n",
        "<li><button aria-label=\"Copy Code\" class=\"rdmd-code-copy fa\" _msthidden=\"A\" _mstaria-label=\"108654\" _msthash=\"26778\"></button><code class=\"rdmd-code lang- theme-light\" data-lang=\"\" name=\"\" tabindex=\"0\"><span class=\"cm-s-neo\">last_analysis_stats</span></code><font _mstmutation=\"1\" _msttexthash=\"2837367\" _msthash=\"26779\">: &lt;<em _mstmutation=\"1\" _istranslated=\"1\">diccionario</em>&gt; número de resultados diferentes de este análisis. </font><ul>\n",
        "<li><button aria-label=\"Copy Code\" class=\"rdmd-code-copy fa\" _msthidden=\"A\" _mstaria-label=\"108654\" _msthash=\"26780\"></button><code class=\"rdmd-code lang- theme-light\" data-lang=\"\" name=\"\" tabindex=\"0\"><span class=\"cm-s-neo\">harmless</span></code><font _mstmutation=\"1\" _msttexthash=\"2101255\" _msthash=\"26781\">: &lt;<em _mstmutation=\"1\" _istranslated=\"1\">entero</em>&gt; número de informes que dicen que es inofensivo.</font></li>\n",
        "<li><button aria-label=\"Copy Code\" class=\"rdmd-code-copy fa\" _msthidden=\"A\" _mstaria-label=\"108654\" _msthash=\"26782\"></button><code class=\"rdmd-code lang- theme-light\" data-lang=\"\" name=\"\" tabindex=\"0\"><span class=\"cm-s-neo\">malicious</span></code><font _mstmutation=\"1\" _msttexthash=\"2012101\" _msthash=\"26783\">: &lt;<em _mstmutation=\"1\" _istranslated=\"1\">entero</em>&gt; número de informes que dicen que es malicioso.</font></li>\n",
        "<li><button aria-label=\"Copy Code\" class=\"rdmd-code-copy fa\" _msthidden=\"A\" _mstaria-label=\"108654\" _msthash=\"26784\"></button><code class=\"rdmd-code lang- theme-light\" data-lang=\"\" name=\"\" tabindex=\"0\"><span class=\"cm-s-neo\">suspicious</span></code><font _mstmutation=\"1\" _msttexthash=\"2103933\" _msthash=\"26785\">: &lt;<em _mstmutation=\"1\" _istranslated=\"1\">entero</em>&gt; número de informes que dicen que es sospechoso.</font></li>\n",
        "<li><button aria-label=\"Copy Code\" class=\"rdmd-code-copy fa\" _msthidden=\"A\" _mstaria-label=\"108654\" _msthash=\"26786\"></button><code class=\"rdmd-code lang- theme-light\" data-lang=\"\" name=\"\" tabindex=\"0\"><span class=\"cm-s-neo\">timeout</span></code><font _mstmutation=\"1\" _msttexthash=\"2181153\" _msthash=\"26787\">: &lt;<em _mstmutation=\"1\" _istranslated=\"1\">entero</em>&gt; número de tiempos de espera al comprobar esta URL.</font></li>\n",
        "<li><button aria-label=\"Copy Code\" class=\"rdmd-code-copy fa\" _msthidden=\"A\" _mstaria-label=\"108654\" _msthash=\"26788\"></button><code class=\"rdmd-code lang- theme-light\" data-lang=\"\" name=\"\" tabindex=\"0\"><span class=\"cm-s-neo\">undetected</span></code><font _mstmutation=\"1\" _msttexthash=\"2305160\" _msthash=\"26789\">: &lt;<em _mstmutation=\"1\" _istranslated=\"1\">entero</em>&gt; número de informes que dicen que no se ha detectado.</font></li>\n",
        "</ul>\n",
        "</li>\n",
        "<li><button aria-label=\"Copy Code\" class=\"rdmd-code-copy fa\" _msthidden=\"A\" _mstaria-label=\"108654\" _msthash=\"26790\"></button><code class=\"rdmd-code lang- theme-light\" data-lang=\"\" name=\"\" tabindex=\"0\"><span class=\"cm-s-neo\">last_https_certificate</span></code><font _mstmutation=\"1\" _msttexthash=\"4425577\" _msthash=\"26791\">: &lt;<em _mstmutation=\"1\" _istranslated=\"1\"><a target=\"_self\" href=\"#ssl-certificate\" _istranslated=\"1\">Certificado</a> </em>SSL &gt; información del certificado de objeto de certificado SSL para esa IP.</font></li>\n",
        "<li><button aria-label=\"Copy Code\" class=\"rdmd-code-copy fa\" _msthidden=\"A\" _mstaria-label=\"108654\" _msthash=\"26792\"></button><code class=\"rdmd-code lang- theme-light\" data-lang=\"\" name=\"\" tabindex=\"0\"><span class=\"cm-s-neo\">last_https_certificate_date</span></code><font _mstmutation=\"1\" _msttexthash=\"5444738\" _msthash=\"26794\">: &lt;<em _mstmutation=\"1\" _istranslated=\"1\">entero</em>&gt; fecha en la que VirusTotal recuperó el certificado que se muestra en . Marca de tiempo UTC.</font><button aria-label=\"Copy Code\" class=\"rdmd-code-copy fa\" _msthidden=\"A\" _mstaria-label=\"108654\" _msthash=\"26793\"></button><code class=\"rdmd-code lang- theme-light\" data-lang=\"\" name=\"\" tabindex=\"0\"><span class=\"cm-s-neo\">last_https_certificate</span></code></li>\n",
        "<li><button aria-label=\"Copy Code\" class=\"rdmd-code-copy fa\" _msthidden=\"A\" _mstaria-label=\"108654\" _msthash=\"26795\"></button><code class=\"rdmd-code lang- theme-light\" data-lang=\"\" name=\"\" tabindex=\"0\"><span class=\"cm-s-neo\">last_modification_date</span></code><font _mstmutation=\"1\" _msttexthash=\"4958018\" _msthash=\"26796\">: &lt;<em _mstmutation=\"1\" _istranslated=\"1\">entero</em>&gt; fecha en que se actualizó por última vez la información de la IP. Marca de tiempo UTC.</font></li>\n",
        "<li><button aria-label=\"Copy Code\" class=\"rdmd-code-copy fa\" _msthidden=\"A\" _mstaria-label=\"108654\" _msthash=\"26797\"></button><code class=\"rdmd-code lang- theme-light\" data-lang=\"\" name=\"\" tabindex=\"0\"><span class=\"cm-s-neo\">network</span></code><font _mstmutation=\"1\" _msttexthash=\"1463020\" _msthash=\"26804\">: &lt;<em _mstmutation=\"1\" _istranslated=\"1\">string</em>&gt; rango de red IPv4 al que pertenece la IP.</font></li>\n",
        "<li><button aria-label=\"Copy Code\" class=\"rdmd-code-copy fa\" _msthidden=\"A\" _mstaria-label=\"108654\" _msthash=\"26805\"></button><code class=\"rdmd-code lang- theme-light\" data-lang=\"\" name=\"\" tabindex=\"0\"><span class=\"cm-s-neo\">regional_internet_registry</span></code><font _mstmutation=\"1\" _msttexthash=\"2751515\" _msthash=\"26806\">: &lt;<em _mstmutation=\"1\" _istranslated=\"1\">cuerda</em>&gt; RIR (uno de los RIR actuales: AFRINIC, ARIN, APNIC, LACNIC o RIPE NCC).</font></li>\n",
        "<li><button aria-label=\"Copy Code\" class=\"rdmd-code-copy fa\" _msthidden=\"A\" _mstaria-label=\"108654\" _msthash=\"26807\"></button><code class=\"rdmd-code lang- theme-light\" data-lang=\"\" name=\"\" tabindex=\"0\"><span class=\"cm-s-neo\">reputation</span></code><font _mstmutation=\"1\" _msttexthash=\"4482829\" _msthash=\"26808\">: &lt;<em _mstmutation=\"1\" _istranslated=\"1\">entero</em>&gt; puntuación de IP calculada a partir de los votos de la comunidad de VirusTotal.</font></li>\n",
        "<li><button aria-label=\"Copy Code\" class=\"rdmd-code-copy fa\" _msthidden=\"A\" _mstaria-label=\"108654\" _msthash=\"26809\"></button><code class=\"rdmd-code lang- theme-light\" data-lang=\"\" name=\"\" tabindex=\"0\"><span class=\"cm-s-neo\">tags</span></code><font _mstmutation=\"1\" _msttexthash=\"1550133\" _msthash=\"26810\">: &lt;<em _mstmutation=\"1\" _istranslated=\"1\">lista de cadenas</em>&gt; atributos identificativos.</font></li>\n",
        "<li><button aria-label=\"Copy Code\" class=\"rdmd-code-copy fa\" _msthidden=\"A\" _mstaria-label=\"108654\" _msthash=\"26811\"></button><code class=\"rdmd-code lang- theme-light\" data-lang=\"\" name=\"\" tabindex=\"0\"><span class=\"cm-s-neo\">total_votes</span></code><font _mstmutation=\"1\" _msttexthash=\"6691841\" _msthash=\"26812\">: &lt;<em _mstmutation=\"1\" _istranslated=\"1\">diccionario</em>&gt; número no ponderado del total de votos de la comunidad, dividido en \"inofensivo\" y \"malicioso\". </font><ul>\n",
        "<li><button aria-label=\"Copy Code\" class=\"rdmd-code-copy fa\" _msthidden=\"A\" _mstaria-label=\"108654\" _msthash=\"26813\"></button><code class=\"rdmd-code lang- theme-light\" data-lang=\"\" name=\"\" tabindex=\"0\"><span class=\"cm-s-neo\">harmless</span></code><font _mstmutation=\"1\" _msttexthash=\"1017172\" _msthash=\"26814\">: &lt;<em _mstmutation=\"1\" _istranslated=\"1\">entero</em>&gt; número de votos positivos.</font></li>\n",
        "<li><button aria-label=\"Copy Code\" class=\"rdmd-code-copy fa\" _msthidden=\"A\" _mstaria-label=\"108654\" _msthash=\"26815\"></button><code class=\"rdmd-code lang- theme-light\" data-lang=\"\" name=\"\" tabindex=\"0\"><span class=\"cm-s-neo\">malicious</span></code><font _mstmutation=\"1\" _msttexthash=\"1004354\" _msthash=\"26816\">: &lt;<em _mstmutation=\"1\" _istranslated=\"1\">entero</em>&gt; número de votos negativos.</font></li>\n",
        "</ul>\n",
        "</li>\n",
        "<li><button aria-label=\"Copy Code\" class=\"rdmd-code-copy fa\" _msthidden=\"A\" _mstaria-label=\"108654\" _msthash=\"26817\"></button><code class=\"rdmd-code lang- theme-light\" data-lang=\"\" name=\"\" tabindex=\"0\"><span class=\"cm-s-neo\">whois</span></code><font _mstmutation=\"1\" _msttexthash=\"3638427\" _msthash=\"26818\">: &lt;<em _mstmutation=\"1\" _istranslated=\"1\">string</em>&gt; información de whois devuelta por el servidor de whois pertinente.</font></li>\n",
        "<li><button aria-label=\"Copy Code\" class=\"rdmd-code-copy fa\" _msthidden=\"A\" _mstaria-label=\"108654\" _msthash=\"26819\"></button><code class=\"rdmd-code lang- theme-light\" data-lang=\"\" name=\"\" tabindex=\"0\"><span class=\"cm-s-neo\">whois_date</span></code><font _mstmutation=\"1\" _msttexthash=\"5359432\" _msthash=\"26820\">: &lt;<em _mstmutation=\"1\" _istranslated=\"1\">entero</em>&gt; fecha de la última actualización del registro whois en VirusTotal. Marca de tiempo UTC.</font></li>\n",
        "</ul>"
      ],
      "metadata": {
        "id": "gE5JD6oHVpmp"
      }
    },
    {
      "cell_type": "code",
      "source": [
        "# Paquetes necesarios.\n",
        "import requests\n",
        "import datetime\n",
        "\n",
        "# Función que obtiene resultados de la IP.\n",
        "def get_ip_report(ip_address):\n",
        "  url = \"https://www.virustotal.com/api/v3/ip_addresses/{}\".format(ip_address)\n",
        "  headers = {\"accept\": \"application/json\",\n",
        "           \"x-apikey\": API_KEY\n",
        "  }\n",
        "  response = requests.get(url, headers=headers).json()\n",
        "\n",
        "  return response"
      ],
      "metadata": {
        "id": "Dh1PQC9QSkxG"
      },
      "execution_count": null,
      "outputs": []
    },
    {
      "cell_type": "markdown",
      "source": [
        "## Obtener comentarios relacionados con la IP"
      ],
      "metadata": {
        "id": "NCyp3LVBwni-"
      }
    },
    {
      "cell_type": "code",
      "source": [
        "# Paquetes necesarios.\n",
        "import requests\n",
        "import datetime\n",
        "\n",
        "# Función que obtiene los comentarios relacionados de la IP.\n",
        "def get_ip_comments(ip_address):\n",
        "  cant = 10\n",
        "  url = \"https://www.virustotal.com/api/v3/ip_addresses/{}/comments?limit={}\".format(ip_address, cant)\n",
        "  headers = {\"accept\": \"application/json\",\n",
        "           \"x-apikey\": API_KEY\n",
        "  }\n",
        "  response = requests.get(url, headers=headers).json()\n",
        "\n",
        "  return response"
      ],
      "metadata": {
        "id": "JkLxbX8fwwdN"
      },
      "execution_count": null,
      "outputs": []
    },
    {
      "cell_type": "markdown",
      "source": [
        "##Obtener objetos relacionados con una dirección IP\n",
        "\n",
        "| Relación                    | Descripción                                                             | Accesibilidad                        | Tipo de objeto devuelto       |\n",
        "|-----------------------------|-------------------------------------------------------------------------|--------------------------------------|-------------------------------|\n",
        "| comments                    | Comentarios para la dirección IP.                                       | Todos.                               | Lista de comentarios.         |\n",
        "| communicating_files         | Archivos que se comunican con la dirección IP.                          | Todos.                               | Lista de archivos.            |\n",
        "| downloaded_files            | Archivos descargados desde la dirección IP.                             | Solo para usuarios de VT Enterprise. | Lista de archivos.            |\n",
        "| graphs                      | Gráficos que incluyen la dirección IP.                                  | Todos.                               | Lista de gráficos.            |\n",
        "| historical_ssl_certificates | Certificados SSL asociados a la IP.                                     | Todos.                               | Lista de Certificados SSL.    |\n",
        "| historical_whois            | Información de WHOIS para la dirección IP.                              | Todos.                               | Lista de Whois.               |\n",
        "| related_comments            | La comunidad publicó comentarios en los objetos relacionados con la IP. | Todos.                               | Lista de comentarios.         |\n",
        "| related_references          | Referencias relacionadas con la dirección IP.                           | Solo para usuarios de VT Enterprise. | Lista de referencias.         |\n",
        "| related_threat_actors       | Actores de amenazas relacionados con la dirección IP.                   | Solo para usuarios de VT Enterprise. | Lista de actores de amenazas. |\n",
        "| referrer_files              | Archivos que contienen la dirección IP.                                 | Todos.                               | Lista de archivos.            |\n",
        "| resolutions                 | Resoluciones de direcciones IP                                          | Todos.                               | Lista de resoluciones.        |\n",
        "| urls                        | URLs relacionadas con la dirección IP.                                  | Solo para usuarios de VT Enterprise. | Lista de URLs.                |\n"
      ],
      "metadata": {
        "id": "yI81eHi8VVpQ"
      }
    },
    {
      "cell_type": "code",
      "source": [
        "# Paquetes necesarios.\n",
        "import requests\n",
        "import datetime\n",
        "\n",
        "# Función que obtiene los comentarios relacionados de la IP.\n",
        "def get_ip_relationships(ip_address, relationship):\n",
        "  url = \"https://www.virustotal.com/api/v3/ip_addresses/{}/{}\".format(ip_address, relationship)\n",
        "  headers = {\"accept\": \"application/json\",\n",
        "           \"x-apikey\": API_KEY\n",
        "  }\n",
        "  response = requests.get(url, headers=headers).json()\n",
        "\n",
        "  return response"
      ],
      "metadata": {
        "id": "hIastQZjWR84"
      },
      "execution_count": null,
      "outputs": []
    },
    {
      "cell_type": "code",
      "source": [
        "# Paquetes necesarios\n",
        "import requests\n",
        "\n",
        "def get_domain_report(domain):\n",
        "  url = \"https://www.virustotal.com/api/v3/domains/{}\".format(domain)\n",
        "  headers = {\n",
        "    \"accept\": \"application/json\",\n",
        "    \"x-apikey\": API_KEY\n",
        "  }\n",
        "  response = requests.get(url, headers=headers).json()\n",
        "\n",
        "  return response\n",
        "\n",
        "\n",
        "# Solicita el dominio.\n",
        "domain = str(input(\"Ingrese el dominio: \"))\n",
        "\n",
        "# Obtiene los resultados.\n",
        "response = get_domain_report(domain)\n",
        "print(response)"
      ],
      "metadata": {
        "id": "KKI3S4Sh421P"
      },
      "execution_count": null,
      "outputs": []
    },
    {
      "cell_type": "markdown",
      "source": [
        "## Archivos"
      ],
      "metadata": {
        "id": "7CJHL7TXmfh5"
      }
    },
    {
      "cell_type": "markdown",
      "source": [
        "###Análisis por medio del hash.\n",
        "\n",
        "En el caso de los hashes, siempre se realiza un análisis previamente."
      ],
      "metadata": {
        "id": "MJvCtN2LMzdG"
      }
    },
    {
      "cell_type": "code",
      "source": [
        "# Paquetes necesarios.\n",
        "import requests\n",
        "import datetime\n",
        "\n",
        "# Función que solicita el reanálisis de un archivo.\n",
        "def file_reanalyse(hash):\n",
        "  url = \"https://www.virustotal.com/api/v3/files/{}/analyse\".format(hash)\n",
        "  headers = {\n",
        "    \"accept\": \"application/json\",\n",
        "    \"x-apikey\": API_KEY\n",
        "  }\n",
        "  response = requests.post(url, headers=headers)\n",
        "  return response.json()\n",
        "\n",
        "# Función que obtiene los datos de un archivo por medio de su hash.\n",
        "def get_file_data(hash):\n",
        "    url = \"https://www.virustotal.com/api/v3/files/{}\".format(hash)\n",
        "    headers = {\n",
        "        \"accept\": \"application/json\",\n",
        "        \"x-apikey\": API_KEY  # Asegúrate de definir tu API_KEY\n",
        "    }\n",
        "    response = requests.get(url, headers=headers)\n",
        "    return response.json()\n",
        "\n",
        "# Solicita el hash del archivo.\n",
        "hash = str(input(\"Ingresa el hash (SHA-256, SHA-1 ó MD5): \"))\n",
        "\n",
        "# Genera el reanálisis del archivo.\n",
        "response_data = file_reanalyse(hash)\n",
        "\n",
        "# Obtiene los datos del hash.\n",
        "response_data = get_file_data(hash)"
      ],
      "metadata": {
        "id": "FVZdqegscMXJ",
        "colab": {
          "base_uri": "https://localhost:8080/",
          "height": 390
        },
        "outputId": "0717d272-103d-48c1-e230-99176c36eae6"
      },
      "execution_count": null,
      "outputs": [
        {
          "output_type": "error",
          "ename": "KeyboardInterrupt",
          "evalue": "Interrupted by user",
          "traceback": [
            "\u001b[0;31m---------------------------------------------------------------------------\u001b[0m",
            "\u001b[0;31mKeyboardInterrupt\u001b[0m                         Traceback (most recent call last)",
            "\u001b[0;32m<ipython-input-11-5058af46374f>\u001b[0m in \u001b[0;36m<cell line: 26>\u001b[0;34m()\u001b[0m\n\u001b[1;32m     24\u001b[0m \u001b[0;34m\u001b[0m\u001b[0m\n\u001b[1;32m     25\u001b[0m \u001b[0;31m# Solicita el hash del archivo.\u001b[0m\u001b[0;34m\u001b[0m\u001b[0;34m\u001b[0m\u001b[0m\n\u001b[0;32m---> 26\u001b[0;31m \u001b[0mhash\u001b[0m \u001b[0;34m=\u001b[0m \u001b[0mstr\u001b[0m\u001b[0;34m(\u001b[0m\u001b[0minput\u001b[0m\u001b[0;34m(\u001b[0m\u001b[0;34m\"Ingresa el hash (SHA-256, SHA-1 ó MD5): \"\u001b[0m\u001b[0;34m)\u001b[0m\u001b[0;34m)\u001b[0m\u001b[0;34m\u001b[0m\u001b[0;34m\u001b[0m\u001b[0m\n\u001b[0m\u001b[1;32m     27\u001b[0m \u001b[0;34m\u001b[0m\u001b[0m\n\u001b[1;32m     28\u001b[0m \u001b[0;31m# Genera el reanálisis del archivo.\u001b[0m\u001b[0;34m\u001b[0m\u001b[0;34m\u001b[0m\u001b[0m\n",
            "\u001b[0;32m/usr/local/lib/python3.10/dist-packages/ipykernel/kernelbase.py\u001b[0m in \u001b[0;36mraw_input\u001b[0;34m(self, prompt)\u001b[0m\n\u001b[1;32m    849\u001b[0m                 \u001b[0;34m\"raw_input was called, but this frontend does not support input requests.\"\u001b[0m\u001b[0;34m\u001b[0m\u001b[0;34m\u001b[0m\u001b[0m\n\u001b[1;32m    850\u001b[0m             )\n\u001b[0;32m--> 851\u001b[0;31m         return self._input_request(str(prompt),\n\u001b[0m\u001b[1;32m    852\u001b[0m             \u001b[0mself\u001b[0m\u001b[0;34m.\u001b[0m\u001b[0m_parent_ident\u001b[0m\u001b[0;34m,\u001b[0m\u001b[0;34m\u001b[0m\u001b[0;34m\u001b[0m\u001b[0m\n\u001b[1;32m    853\u001b[0m             \u001b[0mself\u001b[0m\u001b[0;34m.\u001b[0m\u001b[0m_parent_header\u001b[0m\u001b[0;34m,\u001b[0m\u001b[0;34m\u001b[0m\u001b[0;34m\u001b[0m\u001b[0m\n",
            "\u001b[0;32m/usr/local/lib/python3.10/dist-packages/ipykernel/kernelbase.py\u001b[0m in \u001b[0;36m_input_request\u001b[0;34m(self, prompt, ident, parent, password)\u001b[0m\n\u001b[1;32m    893\u001b[0m             \u001b[0;32mexcept\u001b[0m \u001b[0mKeyboardInterrupt\u001b[0m\u001b[0;34m:\u001b[0m\u001b[0;34m\u001b[0m\u001b[0;34m\u001b[0m\u001b[0m\n\u001b[1;32m    894\u001b[0m                 \u001b[0;31m# re-raise KeyboardInterrupt, to truncate traceback\u001b[0m\u001b[0;34m\u001b[0m\u001b[0;34m\u001b[0m\u001b[0m\n\u001b[0;32m--> 895\u001b[0;31m                 \u001b[0;32mraise\u001b[0m \u001b[0mKeyboardInterrupt\u001b[0m\u001b[0;34m(\u001b[0m\u001b[0;34m\"Interrupted by user\"\u001b[0m\u001b[0;34m)\u001b[0m \u001b[0;32mfrom\u001b[0m \u001b[0;32mNone\u001b[0m\u001b[0;34m\u001b[0m\u001b[0;34m\u001b[0m\u001b[0m\n\u001b[0m\u001b[1;32m    896\u001b[0m             \u001b[0;32mexcept\u001b[0m \u001b[0mException\u001b[0m \u001b[0;32mas\u001b[0m \u001b[0me\u001b[0m\u001b[0;34m:\u001b[0m\u001b[0;34m\u001b[0m\u001b[0;34m\u001b[0m\u001b[0m\n\u001b[1;32m    897\u001b[0m                 \u001b[0mself\u001b[0m\u001b[0;34m.\u001b[0m\u001b[0mlog\u001b[0m\u001b[0;34m.\u001b[0m\u001b[0mwarning\u001b[0m\u001b[0;34m(\u001b[0m\u001b[0;34m\"Invalid Message:\"\u001b[0m\u001b[0;34m,\u001b[0m \u001b[0mexc_info\u001b[0m\u001b[0;34m=\u001b[0m\u001b[0;32mTrue\u001b[0m\u001b[0;34m)\u001b[0m\u001b[0;34m\u001b[0m\u001b[0;34m\u001b[0m\u001b[0m\n",
            "\u001b[0;31mKeyboardInterrupt\u001b[0m: Interrupted by user"
          ]
        }
      ]
    },
    {
      "cell_type": "markdown",
      "source": [
        "##URL's\n",
        "\n",
        "Descripción: Agregar la URL base 64."
      ],
      "metadata": {
        "id": "w1vl0tjJ8pG9"
      }
    },
    {
      "cell_type": "code",
      "source": [
        "import requests\n",
        "import base64\n",
        "\n",
        "#API_KEY\n",
        "API_KEY = 'b5d5f323ee94e9be56739368d866bedbdadeb8506ede11691e8e7c308186305c'\n",
        "\n",
        "def get_url_data(url):\n",
        "  url = \"https://www.virustotal.com/api/v3/urls\"\n",
        "  payload = { \"url\": url }\n",
        "  headers = {\n",
        "      \"accept\": \"application/json\",\n",
        "      \"x-apikey\": API_KEY,\n",
        "      \"content-type\": \"application/x-www-form-urlencoded\"\n",
        "    }\n",
        "  response = requests.post(url, data=payload, headers=headers)\n",
        "\n",
        "  response = response.json()\n",
        "\n",
        "  headers = {\n",
        "    \"accept\": \"application/json\",\n",
        "    \"x-apikey\": API_KEY\n",
        "  }\n",
        "\n",
        "  response = requests.get(response[\"data\"][\"links\"][\"self\"], headers=headers)\n",
        "\n",
        "  return response.json()\n",
        "\n",
        "# Solicita la URL.\n",
        "url = str(input(\"Ingrese la URL: \"))\n",
        "\n",
        "# Obtiene los resultados.\n",
        "response = get_url_data(url)\n",
        "print(response)"
      ],
      "metadata": {
        "colab": {
          "base_uri": "https://localhost:8080/"
        },
        "id": "nNziCEz78zFV",
        "outputId": "fb9423ca-1abb-4890-841f-fd9e12571a9c"
      },
      "execution_count": null,
      "outputs": [
        {
          "output_type": "stream",
          "name": "stdout",
          "text": [
            "Ingrese la URL: https://translate.google.com.mx/?sl=en&tl=es&text=A%20device%20is%20communicating%20with%20a%20server%20using%20a%20self%20signed%20certificate.%20This%20is%20a%20particular%20threat%20if%20the%20certificate%20is%20attempting%20to%20impersonate%20legitimate%20services.&op=translate\n",
            "{'meta': {'file_info': {'sha256': '1ad3e4394b5f2363b8f1b0525d221a8e1481919232068010921794c541cef10e'}, 'url_info': {'url': 'https://www.virustotal.com/api/v3/urls', 'id': '982670e39e39e2a28da35930a696943c62dd8dc3669a989b4dc037d9326eb3cd'}}, 'data': {'attributes': {'date': 1699054187, 'status': 'completed', 'stats': {'harmless': 73, 'malicious': 0, 'suspicious': 1, 'undetected': 16, 'timeout': 0}, 'results': {'Bkav': {'category': 'undetected', 'result': 'unrated', 'method': 'blacklist', 'engine_name': 'Bkav'}, 'CMC Threat Intelligence': {'category': 'harmless', 'result': 'clean', 'method': 'blacklist', 'engine_name': 'CMC Threat Intelligence'}, 'Snort IP sample list': {'category': 'harmless', 'result': 'clean', 'method': 'blacklist', 'engine_name': 'Snort IP sample list'}, 'VX Vault': {'category': 'harmless', 'result': 'clean', 'method': 'blacklist', 'engine_name': 'VX Vault'}, 'ViriBack': {'category': 'harmless', 'result': 'clean', 'method': 'blacklist', 'engine_name': 'ViriBack'}, 'PhishLabs': {'category': 'undetected', 'result': 'unrated', 'method': 'blacklist', 'engine_name': 'PhishLabs'}, 'K7AntiVirus': {'category': 'harmless', 'result': 'clean', 'method': 'blacklist', 'engine_name': 'K7AntiVirus'}, 'CINS Army': {'category': 'harmless', 'result': 'clean', 'method': 'blacklist', 'engine_name': 'CINS Army'}, 'Quttera': {'category': 'harmless', 'result': 'clean', 'method': 'blacklist', 'engine_name': 'Quttera'}, 'BlockList': {'category': 'harmless', 'result': 'clean', 'method': 'blacklist', 'engine_name': 'BlockList'}, 'PrecisionSec': {'category': 'undetected', 'result': 'unrated', 'method': 'blacklist', 'engine_name': 'PrecisionSec'}, 'OpenPhish': {'category': 'harmless', 'result': 'clean', 'method': 'blacklist', 'engine_name': 'OpenPhish'}, '0xSI_f33d': {'category': 'undetected', 'result': 'unrated', 'method': 'blacklist', 'engine_name': '0xSI_f33d'}, 'Feodo Tracker': {'category': 'harmless', 'result': 'clean', 'method': 'blacklist', 'engine_name': 'Feodo Tracker'}, 'ADMINUSLabs': {'category': 'harmless', 'result': 'clean', 'method': 'blacklist', 'engine_name': 'ADMINUSLabs'}, 'Scantitan': {'category': 'harmless', 'result': 'clean', 'method': 'blacklist', 'engine_name': 'Scantitan'}, 'AlienVault': {'category': 'harmless', 'result': 'clean', 'method': 'blacklist', 'engine_name': 'AlienVault'}, 'Sophos': {'category': 'harmless', 'result': 'clean', 'method': 'blacklist', 'engine_name': 'Sophos'}, 'Phishtank': {'category': 'harmless', 'result': 'clean', 'method': 'blacklist', 'engine_name': 'Phishtank'}, 'Cyan': {'category': 'undetected', 'result': 'unrated', 'method': 'blacklist', 'engine_name': 'Cyan'}, 'Spam404': {'category': 'harmless', 'result': 'clean', 'method': 'blacklist', 'engine_name': 'Spam404'}, 'CRDF': {'category': 'harmless', 'result': 'clean', 'method': 'blacklist', 'engine_name': 'CRDF'}, 'Rising': {'category': 'harmless', 'result': 'clean', 'method': 'blacklist', 'engine_name': 'Rising'}, 'Fortinet': {'category': 'harmless', 'result': 'clean', 'method': 'blacklist', 'engine_name': 'Fortinet'}, 'alphaMountain.ai': {'category': 'harmless', 'result': 'clean', 'method': 'blacklist', 'engine_name': 'alphaMountain.ai'}, 'Lionic': {'category': 'harmless', 'result': 'clean', 'method': 'blacklist', 'engine_name': 'Lionic'}, 'Cyble': {'category': 'harmless', 'result': 'clean', 'method': 'blacklist', 'engine_name': 'Cyble'}, 'Seclookup': {'category': 'harmless', 'result': 'clean', 'method': 'blacklist', 'engine_name': 'Seclookup'}, 'Xcitium Verdict Cloud': {'category': 'harmless', 'result': 'clean', 'method': 'blacklist', 'engine_name': 'Xcitium Verdict Cloud'}, 'Artists Against 419': {'category': 'harmless', 'result': 'clean', 'method': 'blacklist', 'engine_name': 'Artists Against 419'}, 'Google Safebrowsing': {'category': 'harmless', 'result': 'clean', 'method': 'blacklist', 'engine_name': 'Google Safebrowsing'}, 'SafeToOpen': {'category': 'undetected', 'result': 'unrated', 'method': 'blacklist', 'engine_name': 'SafeToOpen'}, 'ArcSight Threat Intelligence': {'category': 'suspicious', 'result': 'suspicious', 'method': 'blacklist', 'engine_name': 'ArcSight Threat Intelligence'}, 'ESTsecurity': {'category': 'harmless', 'result': 'clean', 'method': 'blacklist', 'engine_name': 'ESTsecurity'}, 'Juniper Networks': {'category': 'harmless', 'result': 'clean', 'method': 'blacklist', 'engine_name': 'Juniper Networks'}, 'Heimdal Security': {'category': 'harmless', 'result': 'clean', 'method': 'blacklist', 'engine_name': 'Heimdal Security'}, 'AutoShun': {'category': 'undetected', 'result': 'unrated', 'method': 'blacklist', 'engine_name': 'AutoShun'}, 'Trustwave': {'category': 'harmless', 'result': 'clean', 'method': 'blacklist', 'engine_name': 'Trustwave'}, 'CyRadar': {'category': 'harmless', 'result': 'clean', 'method': 'blacklist', 'engine_name': 'CyRadar'}, 'Dr.Web': {'category': 'harmless', 'result': 'clean', 'method': 'blacklist', 'engine_name': 'Dr.Web'}, 'Emsisoft': {'category': 'harmless', 'result': 'clean', 'method': 'blacklist', 'engine_name': 'Emsisoft'}, 'Abusix': {'category': 'harmless', 'result': 'clean', 'method': 'blacklist', 'engine_name': 'Abusix'}, 'Webroot': {'category': 'harmless', 'result': 'clean', 'method': 'blacklist', 'engine_name': 'Webroot'}, 'Avira': {'category': 'harmless', 'result': 'clean', 'method': 'blacklist', 'engine_name': 'Avira'}, 'securolytics': {'category': 'harmless', 'result': 'clean', 'method': 'blacklist', 'engine_name': 'securolytics'}, 'Antiy-AVL': {'category': 'harmless', 'result': 'clean', 'method': 'blacklist', 'engine_name': 'Antiy-AVL'}, 'AlphaSOC': {'category': 'undetected', 'result': 'unrated', 'method': 'blacklist', 'engine_name': 'AlphaSOC'}, 'Acronis': {'category': 'harmless', 'result': 'clean', 'method': 'blacklist', 'engine_name': 'Acronis'}, 'Quick Heal': {'category': 'harmless', 'result': 'clean', 'method': 'blacklist', 'engine_name': 'Quick Heal'}, 'URLQuery': {'category': 'harmless', 'result': 'clean', 'method': 'blacklist', 'engine_name': 'URLQuery'}, 'Ermes': {'category': 'undetected', 'result': 'unrated', 'method': 'blacklist', 'engine_name': 'Ermes'}, 'Viettel Threat Intelligence': {'category': 'harmless', 'result': 'clean', 'method': 'blacklist', 'engine_name': 'Viettel Threat Intelligence'}, 'DNS8': {'category': 'harmless', 'result': 'clean', 'method': 'blacklist', 'engine_name': 'DNS8'}, 'AILabs (MONITORAPP)': {'category': 'harmless', 'result': 'clean', 'method': 'blacklist', 'engine_name': 'AILabs (MONITORAPP)'}, 'benkow.cc': {'category': 'harmless', 'result': 'clean', 'method': 'blacklist', 'engine_name': 'benkow.cc'}, 'EmergingThreats': {'category': 'harmless', 'result': 'clean', 'method': 'blacklist', 'engine_name': 'EmergingThreats'}, 'Chong Lua Dao': {'category': 'harmless', 'result': 'clean', 'method': 'blacklist', 'engine_name': 'Chong Lua Dao'}, 'Yandex Safebrowsing': {'category': 'harmless', 'result': 'clean', 'method': 'blacklist', 'engine_name': 'Yandex Safebrowsing'}, 'Lumu': {'category': 'undetected', 'result': 'unrated', 'method': 'blacklist', 'engine_name': 'Lumu'}, 'Kaspersky': {'category': 'harmless', 'result': 'clean', 'method': 'blacklist', 'engine_name': 'Kaspersky'}, 'Sucuri SiteCheck': {'category': 'harmless', 'result': 'clean', 'method': 'blacklist', 'engine_name': 'Sucuri SiteCheck'}, 'desenmascara.me': {'category': 'harmless', 'result': 'clean', 'method': 'blacklist', 'engine_name': 'desenmascara.me'}, 'CrowdSec': {'category': 'undetected', 'result': 'unrated', 'method': 'blacklist', 'engine_name': 'CrowdSec'}, 'Cluster25': {'category': 'undetected', 'result': 'unrated', 'method': 'blacklist', 'engine_name': 'Cluster25'}, 'SOCRadar': {'category': 'undetected', 'result': 'unrated', 'method': 'blacklist', 'engine_name': 'SOCRadar'}, 'URLhaus': {'category': 'harmless', 'result': 'clean', 'method': 'blacklist', 'engine_name': 'URLhaus'}, 'PREBYTES': {'category': 'harmless', 'result': 'clean', 'method': 'blacklist', 'engine_name': 'PREBYTES'}, 'StopForumSpam': {'category': 'harmless', 'result': 'clean', 'method': 'blacklist', 'engine_name': 'StopForumSpam'}, 'Blueliv': {'category': 'harmless', 'result': 'clean', 'method': 'blacklist', 'engine_name': 'Blueliv'}, 'Netcraft': {'category': 'undetected', 'result': 'unrated', 'method': 'blacklist', 'engine_name': 'Netcraft'}, 'ZeroCERT': {'category': 'harmless', 'result': 'clean', 'method': 'blacklist', 'engine_name': 'ZeroCERT'}, 'Phishing Database': {'category': 'harmless', 'result': 'clean', 'method': 'blacklist', 'engine_name': 'Phishing Database'}, 'MalwarePatrol': {'category': 'harmless', 'result': 'clean', 'method': 'blacklist', 'engine_name': 'MalwarePatrol'}, 'Sangfor': {'category': 'harmless', 'result': 'clean', 'method': 'blacklist', 'engine_name': 'Sangfor'}, 'IPsum': {'category': 'harmless', 'result': 'clean', 'method': 'blacklist', 'engine_name': 'IPsum'}, 'Malwared': {'category': 'harmless', 'result': 'clean', 'method': 'blacklist', 'engine_name': 'Malwared'}, 'BitDefender': {'category': 'harmless', 'result': 'clean', 'method': 'blacklist', 'engine_name': 'BitDefender'}, 'GreenSnow': {'category': 'harmless', 'result': 'clean', 'method': 'blacklist', 'engine_name': 'GreenSnow'}, 'G-Data': {'category': 'harmless', 'result': 'clean', 'method': 'blacklist', 'engine_name': 'G-Data'}, 'VIPRE': {'category': 'undetected', 'result': 'unrated', 'method': 'blacklist', 'engine_name': 'VIPRE'}, 'SCUMWARE.org': {'category': 'harmless', 'result': 'clean', 'method': 'blacklist', 'engine_name': 'SCUMWARE.org'}, 'PhishFort': {'category': 'undetected', 'result': 'unrated', 'method': 'blacklist', 'engine_name': 'PhishFort'}, 'malwares.com URL checker': {'category': 'harmless', 'result': 'clean', 'method': 'blacklist', 'engine_name': 'malwares.com URL checker'}, 'Forcepoint ThreatSeeker': {'category': 'harmless', 'result': 'clean', 'method': 'blacklist', 'engine_name': 'Forcepoint ThreatSeeker'}, 'Criminal IP': {'category': 'harmless', 'result': 'clean', 'method': 'blacklist', 'engine_name': 'Criminal IP'}, 'Certego': {'category': 'harmless', 'result': 'clean', 'method': 'blacklist', 'engine_name': 'Certego'}, 'ESET': {'category': 'harmless', 'result': 'clean', 'method': 'blacklist', 'engine_name': 'ESET'}, 'Threatsourcing': {'category': 'harmless', 'result': 'clean', 'method': 'blacklist', 'engine_name': 'Threatsourcing'}, 'ThreatHive': {'category': 'harmless', 'result': 'clean', 'method': 'blacklist', 'engine_name': 'ThreatHive'}, 'Bfore.Ai PreCrime': {'category': 'harmless', 'result': 'clean', 'method': 'blacklist', 'engine_name': 'Bfore.Ai PreCrime'}}}, 'type': 'analysis', 'id': 'u-982670e39e39e2a28da35930a696943c62dd8dc3669a989b4dc037d9326eb3cd-1699054187', 'links': {'item': 'https://www.virustotal.com/api/v3/urls/982670e39e39e2a28da35930a696943c62dd8dc3669a989b4dc037d9326eb3cd', 'self': 'https://www.virustotal.com/api/v3/analyses/u-982670e39e39e2a28da35930a696943c62dd8dc3669a989b4dc037d9326eb3cd-1699054187'}}}\n"
          ]
        }
      ]
    },
    {
      "cell_type": "code",
      "source": [
        "response = get_ip_report(\"189.203.112.120\")\n",
        "print(response)"
      ],
      "metadata": {
        "colab": {
          "base_uri": "https://localhost:8080/"
        },
        "id": "3m6PMpBssiP1",
        "outputId": "c8230e25-58e7-4251-bb22-bae603a47679"
      },
      "execution_count": null,
      "outputs": [
        {
          "output_type": "stream",
          "name": "stdout",
          "text": [
            "{'data': {'attributes': {'network': '189.203.112.0/21', 'tags': [], 'whois': ' \\ninetnum: 189.203.0.0/16\\nstatus: allocated\\naut-num: N/A\\nowner: TOTAL PLAY TELECOMUNICACIONES SA DE CV\\nownerid: MX-TPTE-LACNIC\\nresponsible: Alejandro Enrique Rodriguez Sanchez\\naddress: PERIFERICO SUR, 4119, FUENTES DEL PEDREGAL\\naddress: 14140 - TLALPAN - CX\\ncountry: MX\\nphone: +52 5585825000\\nowner-c: DSC34\\ntech-c: CIT12\\nabuse-c: CIT12\\ninetrev: 189.203.0.0/16\\nnserver: NS3.TOTALPLAY.COM.MX\\nnsstat: 20231214 AA\\nnslastaa: 20231214\\nnserver: NS5.TOTALPLAY.COM.MX\\nnsstat: 20231214 AA\\nnslastaa: 20231214\\nnserver: NS4.TOTALPLAY.COM.MX\\nnsstat: 20231214 AA\\nnslastaa: 20231214\\ncreated: 20090914\\nchanged: 20150514\\nnic-hdl: DSC34\\nperson: DSI CyAAL\\ne-mail: lacnic@gruposalinas.com.mx\\naddress: Insurgentes Sur, 3579, La Joya\\naddress: 14000 - Tlalpan - CX\\ncountry: MX\\nphone: +52 5517207000 [72779]\\ncreated: 20210209\\nchanged: 20210216\\nnic-hdl: CIT12\\nperson: Christian Ivan Dominguez Trujillo\\ne-mail: cdominguez@totalplay.com.mx\\naddress: Av. San Jeronimo, 252, Col.La Otra Banda\\naddress: 04519 - Mexico - CX\\ncountry: MX\\nphone: +52 5551094400 [5331]\\ncreated: 20150513\\nchanged: 20210720\\n', 'last_analysis_date': 1702619564, 'as_owner': 'AT&T COMUNICACIONES DIGITALES S DE RL', 'last_analysis_stats': {'harmless': 0, 'malicious': 0, 'suspicious': 0, 'undetected': 89, 'timeout': 0}, 'asn': 28469, 'whois_date': 1702619595, 'reputation': 0, 'last_analysis_results': {'Bkav': {'category': 'undetected', 'result': 'unrated', 'method': 'blacklist', 'engine_name': 'Bkav'}, 'CMC Threat Intelligence': {'category': 'undetected', 'result': 'unrated', 'method': 'blacklist', 'engine_name': 'CMC Threat Intelligence'}, 'Snort IP sample list': {'category': 'undetected', 'result': 'unrated', 'method': 'blacklist', 'engine_name': 'Snort IP sample list'}, '0xSI_f33d': {'category': 'undetected', 'result': 'unrated', 'method': 'blacklist', 'engine_name': '0xSI_f33d'}, 'ViriBack': {'category': 'undetected', 'result': 'unrated', 'method': 'blacklist', 'engine_name': 'ViriBack'}, 'MalwareURL': {'category': 'undetected', 'result': 'unrated', 'method': 'blacklist', 'engine_name': 'MalwareURL'}, 'PhishLabs': {'category': 'undetected', 'result': 'unrated', 'method': 'blacklist', 'engine_name': 'PhishLabs'}, 'K7AntiVirus': {'category': 'undetected', 'result': 'unrated', 'method': 'blacklist', 'engine_name': 'K7AntiVirus'}, 'CINS Army': {'category': 'undetected', 'result': 'unrated', 'method': 'blacklist', 'engine_name': 'CINS Army'}, 'Quttera': {'category': 'undetected', 'result': 'unrated', 'method': 'blacklist', 'engine_name': 'Quttera'}, 'PrecisionSec': {'category': 'undetected', 'result': 'unrated', 'method': 'blacklist', 'engine_name': 'PrecisionSec'}, 'OpenPhish': {'category': 'undetected', 'result': 'unrated', 'method': 'blacklist', 'engine_name': 'OpenPhish'}, 'VX Vault': {'category': 'undetected', 'result': 'unrated', 'method': 'blacklist', 'engine_name': 'VX Vault'}, 'ADMINUSLabs': {'category': 'undetected', 'result': 'unrated', 'method': 'blacklist', 'engine_name': 'ADMINUSLabs'}, 'Scantitan': {'category': 'undetected', 'result': 'unrated', 'method': 'blacklist', 'engine_name': 'Scantitan'}, 'AlienVault': {'category': 'undetected', 'result': 'unrated', 'method': 'blacklist', 'engine_name': 'AlienVault'}, 'Sophos': {'category': 'undetected', 'result': 'unrated', 'method': 'blacklist', 'engine_name': 'Sophos'}, 'Phishtank': {'category': 'undetected', 'result': 'unrated', 'method': 'blacklist', 'engine_name': 'Phishtank'}, 'ESTsecurity': {'category': 'undetected', 'result': 'unrated', 'method': 'blacklist', 'engine_name': 'ESTsecurity'}, 'SecureBrain': {'category': 'undetected', 'result': 'unrated', 'method': 'blacklist', 'engine_name': 'SecureBrain'}, 'Spam404': {'category': 'undetected', 'result': 'unrated', 'method': 'blacklist', 'engine_name': 'Spam404'}, 'CRDF': {'category': 'undetected', 'result': 'unrated', 'method': 'blacklist', 'engine_name': 'CRDF'}, 'Fortinet': {'category': 'undetected', 'result': 'unrated', 'method': 'blacklist', 'engine_name': 'Fortinet'}, 'alphaMountain.ai': {'category': 'undetected', 'result': 'unrated', 'method': 'blacklist', 'engine_name': 'alphaMountain.ai'}, 'Lionic': {'category': 'undetected', 'result': 'unrated', 'method': 'blacklist', 'engine_name': 'Lionic'}, 'Cyble': {'category': 'undetected', 'result': 'unrated', 'method': 'blacklist', 'engine_name': 'Cyble'}, 'Seclookup': {'category': 'undetected', 'result': 'unrated', 'method': 'blacklist', 'engine_name': 'Seclookup'}, 'Xcitium Verdict Cloud': {'category': 'undetected', 'result': 'unrated', 'method': 'blacklist', 'engine_name': 'Xcitium Verdict Cloud'}, 'Google Safebrowsing': {'category': 'undetected', 'result': 'unrated', 'method': 'blacklist', 'engine_name': 'Google Safebrowsing'}, 'SafeToOpen': {'category': 'undetected', 'result': 'unrated', 'method': 'blacklist', 'engine_name': 'SafeToOpen'}, 'ArcSight Threat Intelligence': {'category': 'undetected', 'result': 'unrated', 'method': 'blacklist', 'engine_name': 'ArcSight Threat Intelligence'}, 'Cyan': {'category': 'undetected', 'result': 'unrated', 'method': 'blacklist', 'engine_name': 'Cyan'}, 'Juniper Networks': {'category': 'undetected', 'result': 'unrated', 'method': 'blacklist', 'engine_name': 'Juniper Networks'}, 'Heimdal Security': {'category': 'undetected', 'result': 'unrated', 'method': 'blacklist', 'engine_name': 'Heimdal Security'}, 'AutoShun': {'category': 'undetected', 'result': 'unrated', 'method': 'blacklist', 'engine_name': 'AutoShun'}, 'Trustwave': {'category': 'undetected', 'result': 'unrated', 'method': 'blacklist', 'engine_name': 'Trustwave'}, 'CyRadar': {'category': 'undetected', 'result': 'unrated', 'method': 'blacklist', 'engine_name': 'CyRadar'}, 'Dr.Web': {'category': 'undetected', 'result': 'unrated', 'method': 'blacklist', 'engine_name': 'Dr.Web'}, 'Emsisoft': {'category': 'undetected', 'result': 'unrated', 'method': 'blacklist', 'engine_name': 'Emsisoft'}, 'Abusix': {'category': 'undetected', 'result': 'unrated', 'method': 'blacklist', 'engine_name': 'Abusix'}, 'Webroot': {'category': 'undetected', 'result': 'unrated', 'method': 'blacklist', 'engine_name': 'Webroot'}, 'Avira': {'category': 'undetected', 'result': 'unrated', 'method': 'blacklist', 'engine_name': 'Avira'}, 'securolytics': {'category': 'undetected', 'result': 'unrated', 'method': 'blacklist', 'engine_name': 'securolytics'}, 'Antiy-AVL': {'category': 'undetected', 'result': 'unrated', 'method': 'blacklist', 'engine_name': 'Antiy-AVL'}, 'AlphaSOC': {'category': 'undetected', 'result': 'unrated', 'method': 'blacklist', 'engine_name': 'AlphaSOC'}, 'Acronis': {'category': 'undetected', 'result': 'unrated', 'method': 'blacklist', 'engine_name': 'Acronis'}, 'Quick Heal': {'category': 'undetected', 'result': 'unrated', 'method': 'blacklist', 'engine_name': 'Quick Heal'}, 'URLQuery': {'category': 'undetected', 'result': 'unrated', 'method': 'blacklist', 'engine_name': 'URLQuery'}, 'Ermes': {'category': 'undetected', 'result': 'unrated', 'method': 'blacklist', 'engine_name': 'Ermes'}, 'Viettel Threat Intelligence': {'category': 'undetected', 'result': 'unrated', 'method': 'blacklist', 'engine_name': 'Viettel Threat Intelligence'}, 'DNS8': {'category': 'undetected', 'result': 'unrated', 'method': 'blacklist', 'engine_name': 'DNS8'}, 'AILabs (MONITORAPP)': {'category': 'undetected', 'result': 'unrated', 'method': 'blacklist', 'engine_name': 'AILabs (MONITORAPP)'}, 'benkow.cc': {'category': 'undetected', 'result': 'unrated', 'method': 'blacklist', 'engine_name': 'benkow.cc'}, 'EmergingThreats': {'category': 'undetected', 'result': 'unrated', 'method': 'blacklist', 'engine_name': 'EmergingThreats'}, 'Chong Lua Dao': {'category': 'undetected', 'result': 'unrated', 'method': 'blacklist', 'engine_name': 'Chong Lua Dao'}, 'Yandex Safebrowsing': {'category': 'undetected', 'result': 'unrated', 'method': 'blacklist', 'engine_name': 'Yandex Safebrowsing'}, 'Lumu': {'category': 'undetected', 'result': 'unrated', 'method': 'blacklist', 'engine_name': 'Lumu'}, 'zvelo': {'category': 'undetected', 'result': 'unrated', 'method': 'blacklist', 'engine_name': 'zvelo'}, 'Kaspersky': {'category': 'undetected', 'result': 'unrated', 'method': 'blacklist', 'engine_name': 'Kaspersky'}, 'Segasec': {'category': 'undetected', 'result': 'unrated', 'method': 'blacklist', 'engine_name': 'Segasec'}, 'Sucuri SiteCheck': {'category': 'undetected', 'result': 'unrated', 'method': 'blacklist', 'engine_name': 'Sucuri SiteCheck'}, 'desenmascara.me': {'category': 'undetected', 'result': 'unrated', 'method': 'blacklist', 'engine_name': 'desenmascara.me'}, 'CrowdSec': {'category': 'undetected', 'result': 'unrated', 'method': 'blacklist', 'engine_name': 'CrowdSec'}, 'Cluster25': {'category': 'undetected', 'result': 'unrated', 'method': 'blacklist', 'engine_name': 'Cluster25'}, 'SOCRadar': {'category': 'undetected', 'result': 'unrated', 'method': 'blacklist', 'engine_name': 'SOCRadar'}, 'URLhaus': {'category': 'undetected', 'result': 'unrated', 'method': 'blacklist', 'engine_name': 'URLhaus'}, 'PREBYTES': {'category': 'undetected', 'result': 'unrated', 'method': 'blacklist', 'engine_name': 'PREBYTES'}, 'StopForumSpam': {'category': 'undetected', 'result': 'unrated', 'method': 'blacklist', 'engine_name': 'StopForumSpam'}, 'Blueliv': {'category': 'undetected', 'result': 'unrated', 'method': 'blacklist', 'engine_name': 'Blueliv'}, 'Netcraft': {'category': 'undetected', 'result': 'unrated', 'method': 'blacklist', 'engine_name': 'Netcraft'}, 'ZeroCERT': {'category': 'undetected', 'result': 'unrated', 'method': 'blacklist', 'engine_name': 'ZeroCERT'}, 'Phishing Database': {'category': 'undetected', 'result': 'unrated', 'method': 'blacklist', 'engine_name': 'Phishing Database'}, 'MalwarePatrol': {'category': 'undetected', 'result': 'unrated', 'method': 'blacklist', 'engine_name': 'MalwarePatrol'}, 'IPsum': {'category': 'undetected', 'result': 'unrated', 'method': 'blacklist', 'engine_name': 'IPsum'}, 'Malwared': {'category': 'undetected', 'result': 'unrated', 'method': 'blacklist', 'engine_name': 'Malwared'}, 'BitDefender': {'category': 'undetected', 'result': 'unrated', 'method': 'blacklist', 'engine_name': 'BitDefender'}, 'GreenSnow': {'category': 'undetected', 'result': 'unrated', 'method': 'blacklist', 'engine_name': 'GreenSnow'}, 'G-Data': {'category': 'undetected', 'result': 'unrated', 'method': 'blacklist', 'engine_name': 'G-Data'}, 'VIPRE': {'category': 'undetected', 'result': 'unrated', 'method': 'blacklist', 'engine_name': 'VIPRE'}, 'SCUMWARE.org': {'category': 'undetected', 'result': 'unrated', 'method': 'blacklist', 'engine_name': 'SCUMWARE.org'}, 'PhishFort': {'category': 'undetected', 'result': 'unrated', 'method': 'blacklist', 'engine_name': 'PhishFort'}, 'malwares.com URL checker': {'category': 'undetected', 'result': 'unrated', 'method': 'blacklist', 'engine_name': 'malwares.com URL checker'}, 'Forcepoint ThreatSeeker': {'category': 'undetected', 'result': 'unrated', 'method': 'blacklist', 'engine_name': 'Forcepoint ThreatSeeker'}, 'Criminal IP': {'category': 'undetected', 'result': 'unrated', 'method': 'blacklist', 'engine_name': 'Criminal IP'}, 'Certego': {'category': 'undetected', 'result': 'unrated', 'method': 'blacklist', 'engine_name': 'Certego'}, 'ESET': {'category': 'undetected', 'result': 'unrated', 'method': 'blacklist', 'engine_name': 'ESET'}, 'Threatsourcing': {'category': 'undetected', 'result': 'unrated', 'method': 'blacklist', 'engine_name': 'Threatsourcing'}, 'ThreatHive': {'category': 'undetected', 'result': 'unrated', 'method': 'blacklist', 'engine_name': 'ThreatHive'}, 'Bfore.Ai PreCrime': {'category': 'undetected', 'result': 'unrated', 'method': 'blacklist', 'engine_name': 'Bfore.Ai PreCrime'}}, 'country': 'MX', 'last_modification_date': 1702619595, 'regional_internet_registry': 'LACNIC', 'continent': 'NA', 'total_votes': {'harmless': 0, 'malicious': 0}}, 'type': 'ip_address', 'id': '189.203.112.120', 'links': {'self': 'https://www.virustotal.com/api/v3/ip_addresses/189.203.112.120'}}}\n"
          ]
        }
      ]
    },
    {
      "cell_type": "code",
      "source": [
        "response = get_ip_comments(\"43.129.36.145\")\n",
        "print(response)"
      ],
      "metadata": {
        "colab": {
          "base_uri": "https://localhost:8080/"
        },
        "id": "A11o_6uFzo2O",
        "outputId": "b5e13073-c621-4442-acd3-08af3d550406"
      },
      "execution_count": null,
      "outputs": [
        {
          "output_type": "stream",
          "name": "stdout",
          "text": [
            "{'meta': {'count': 7}, 'data': [{'attributes': {'date': 1699596198, 'text': 'This IP address carried out 2 SSH credential attack (attempts) on 09-11-2023. For more information or to report interesting / incorrect findings, give me a shoutout @parthmaniar on Twitter.', 'votes': {'positive': 0, 'abuse': 0, 'negative': 0}, 'html': 'This IP address carried out 2 SSH credential attack (attempts) on 09-11-2023. For more information or to report interesting / incorrect findings, give me a shoutout @parthmaniar on Twitter.', 'tags': []}, 'type': 'comment', 'id': 'i-43.129.36.145-4e18d8ab', 'links': {'self': 'https://www.virustotal.com/api/v3/comments/i-43.129.36.145-4e18d8ab'}}, {'attributes': {'date': 1694253469, 'text': 'This IP address carried out 2 SSH credential attack (attempts) on 08-09-2023. For more information or to report interesting/incorrect findings, give me a shoutout @parthmaniar on Twitter.', 'votes': {'positive': 0, 'abuse': 0, 'negative': 0}, 'html': 'This IP address carried out 2 SSH credential attack (attempts) on 08-09-2023. For more information or to report interesting/incorrect findings, give me a shoutout @parthmaniar on Twitter.', 'tags': []}, 'type': 'comment', 'id': 'i-43.129.36.145-d4872cf9', 'links': {'self': 'https://www.virustotal.com/api/v3/comments/i-43.129.36.145-d4872cf9'}}, {'attributes': {'date': 1694184164, 'text': 'This IP address carried out 2 SSH credential attack (attempts) on 07-09-2023. For more information or to report interesting/incorrect findings, give me a shoutout @parthmaniar on Twitter.', 'votes': {'positive': 0, 'abuse': 0, 'negative': 0}, 'html': 'This IP address carried out 2 SSH credential attack (attempts) on 07-09-2023. For more information or to report interesting/incorrect findings, give me a shoutout @parthmaniar on Twitter.', 'tags': []}, 'type': 'comment', 'id': 'i-43.129.36.145-4d00b21f', 'links': {'self': 'https://www.virustotal.com/api/v3/comments/i-43.129.36.145-4d00b21f'}}, {'attributes': {'date': 1639050736, 'text': 'This IP was carrying out SSH bruteforce attack on 08-Dec-2021. For more information, or to report interesting/incorrect findings, give me a shoutout on @parthmaniar on twitter.', 'votes': {'positive': 0, 'abuse': 0, 'negative': 0}, 'html': 'This IP was carrying out SSH bruteforce attack on 08-Dec-2021. For more information, or to report interesting/incorrect findings, give me a shoutout on @parthmaniar on twitter.', 'tags': []}, 'type': 'comment', 'id': 'i-43.129.36.145-d6939565', 'links': {'self': 'https://www.virustotal.com/api/v3/comments/i-43.129.36.145-d6939565'}}, {'attributes': {'date': 1638000134, 'text': 'This IP was carrying out SSH bruteforce attack on 26-Nov-2021. For more information, or to report interesting/incorrect findings, give me a shoutout on @parthmaniar on twitter.', 'votes': {'positive': 0, 'abuse': 0, 'negative': 0}, 'html': 'This IP was carrying out SSH bruteforce attack on 26-Nov-2021. For more information, or to report interesting/incorrect findings, give me a shoutout on @parthmaniar on twitter.', 'tags': []}, 'type': 'comment', 'id': 'i-43.129.36.145-70ad2838', 'links': {'self': 'https://www.virustotal.com/api/v3/comments/i-43.129.36.145-70ad2838'}}, {'attributes': {'date': 1637649335, 'text': 'This IP was carrying out SSH bruteforce attack on 22-Nov-2021. For more information, or to report interesting/incorrect findings, give me a shoutout on @parthmaniar on twitter.', 'votes': {'positive': 0, 'abuse': 0, 'negative': 0}, 'html': 'This IP was carrying out SSH bruteforce attack on 22-Nov-2021. For more information, or to report interesting/incorrect findings, give me a shoutout on @parthmaniar on twitter.', 'tags': []}, 'type': 'comment', 'id': 'i-43.129.36.145-0efdc712', 'links': {'self': 'https://www.virustotal.com/api/v3/comments/i-43.129.36.145-0efdc712'}}, {'attributes': {'date': 1637563780, 'text': 'This IP was carrying out SSH bruteforce attack on 21-Nov-2021. For more information, or to report interesting/incorrect findings, give me a shoutout on @parthmaniar on twitter.', 'votes': {'positive': 0, 'abuse': 0, 'negative': 0}, 'html': 'This IP was carrying out SSH bruteforce attack on 21-Nov-2021. For more information, or to report interesting/incorrect findings, give me a shoutout on @parthmaniar on twitter.', 'tags': []}, 'type': 'comment', 'id': 'i-43.129.36.145-dce7830b', 'links': {'self': 'https://www.virustotal.com/api/v3/comments/i-43.129.36.145-dce7830b'}}], 'links': {'self': 'https://www.virustotal.com/api/v3/ip_addresses/43.129.36.145/comments?limit=10'}}\n"
          ]
        }
      ]
    },
    {
      "cell_type": "code",
      "source": [
        "response = get_ip_relationships(\"43.129.36.145\", \"communicating_files\")\n",
        "print(response)"
      ],
      "metadata": {
        "colab": {
          "base_uri": "https://localhost:8080/"
        },
        "id": "gF8G_Xq9Xbci",
        "outputId": "880af54d-d78e-4da7-9e80-fa036cef6299"
      },
      "execution_count": null,
      "outputs": [
        {
          "output_type": "stream",
          "name": "stdout",
          "text": [
            "{'meta': {'count': 0}, 'data': [], 'links': {'self': 'https://www.virustotal.com/api/v3/ip_addresses/43.129.36.145/communicating_files?limit=10'}}\n"
          ]
        }
      ]
    }
  ],
  "metadata": {
    "colab": {
      "provenance": [],
      "authorship_tag": "ABX9TyOiXwOVeiACbhHn+03P+u8J",
      "include_colab_link": true
    },
    "kernelspec": {
      "display_name": "Python 3",
      "name": "python3"
    },
    "language_info": {
      "name": "python"
    }
  },
  "nbformat": 4,
  "nbformat_minor": 0
}